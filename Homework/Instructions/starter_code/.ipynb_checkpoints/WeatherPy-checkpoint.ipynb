{
 "cells": [
  {
   "cell_type": "markdown",
   "metadata": {},
   "source": [
    "# WeatherPy\n",
    "----\n",
    "\n",
    "#### Note\n",
    "* Instructions have been included for each segment. You do not have to follow them exactly, but they are included to help you think through the steps."
   ]
  },
  {
   "cell_type": "code",
   "execution_count": null,
   "metadata": {
    "scrolled": true
   },
   "outputs": [],
   "source": [
    "# Dependencies and Setup\n",
    "import matplotlib.pyplot as plt\n",
    "import pandas as pd\n",
    "import numpy as np\n",
    "import requests\n",
    "import time\n",
    "\n",
    "# Import API key\n",
    "from api_keys import api_key\n",
    "\n",
    "# Incorporated citipy to determine city based on latitude and longitude\n",
    "from citipy import citipy\n",
    "url = \"https://openweathermap.org/api\"\n",
    "# Output File (CSV)\n",
    "\n",
    "output_data_file = \"output_data/cities.csv\"\n",
    "\n",
    "# Range of latitudes and longitudes\n",
    "lat_range = (-90, 90)\n",
    "lng_range = (-180, 180)"
   ]
  },
  {
   "cell_type": "markdown",
   "metadata": {},
   "source": [
    "## Generate Cities List"
   ]
  },
  {
   "cell_type": "code",
   "execution_count": null,
   "metadata": {},
   "outputs": [],
   "source": [
    "# List for holding lat_lngs and cities\n",
    "lat_lngs = []\n",
    "cities = []\n",
    "\n",
    "# Create a set of random lat and lng combinations\n",
    "lats = np.random.uniform(low=-90.000, high=90.000, size=1500)\n",
    "lngs = np.random.uniform(low=-180.000, high=180.000, size=1500)\n",
    "lat_lngs = zip(lats, lngs)\n",
    "\n",
    "# Identify nearest city for each lat, lng combination\n",
    "for lat_lng in lat_lngs:\n",
    "    city = citipy.nearest_city(lat_lng[0], lat_lng[1]).city_name\n",
    "    \n",
    "    # If the city is unique, then add it to a our cities list\n",
    "    if city not in cities:\n",
    "        cities.append(city)\n",
    "\n",
    "# Print the city count to confirm sufficient count\n",
    "len(cities)"
   ]
  },
  {
   "cell_type": "code",
   "execution_count": null,
   "metadata": {},
   "outputs": [],
   "source": [
    "#query_url = url + \" appkey  \" + api_key\n",
    "query_url = f\"{url}appid={api_key}&q={city}\"\n",
    "print(query_url)"
   ]
  },
  {
   "cell_type": "code",
   "execution_count": null,
   "metadata": {},
   "outputs": [],
   "source": [
    "url=\"http://api.openweathermap.org/data/2.5/weather?\"\n",
    "query_url = f\"{url}appid={api_key}&q={cities}\"\n",
    "response = requests.get(query_url)\n",
    "#response_json=response.json()\n",
    "#print(json.dumps(response_json,indent=4,sort_keys=True))\n",
    "print(f\"{url}appid={api_key}&q={'hilo'}\")\n"
   ]
  },
  {
   "cell_type": "markdown",
   "metadata": {},
   "source": [
    "### Perform API Calls\n",
    "* Perform a weather check on each city using a series of successive API calls.\n",
    "* Include a print log of each city as it'sbeing processed (with the city number and city name).\n"
   ]
  },
  {
   "cell_type": "code",
   "execution_count": null,
   "metadata": {},
   "outputs": [],
   "source": []
  },
  {
   "cell_type": "markdown",
   "metadata": {},
   "source": [
    "### Convert Raw Data to DataFrame\n",
    "* Export the city data into a .csv.\n",
    "* Display the DataFrame"
   ]
  },
  {
   "cell_type": "code",
   "execution_count": null,
   "metadata": {},
   "outputs": [],
   "source": [
    "# create empty list to append the API data into lists\n",
    "city_name = []\n",
    "cloudiness = []\n",
    "country = []\n",
    "date = []\n",
    "humidity = []\n",
    "lat = []\n",
    "lng = []\n",
    "max_temp = []\n",
    "wind_speed = []\n",
    "#record = 1\n",
    "for city in cities: \n",
    "    try:\n",
    "        #response.raise_for_status()  \n",
    "        response = requests.get(f\"{url}appid={api_key}&q={city}\").json()\n",
    "        city_name.append(response[\"name\"])\n",
    "        #city_record=response[\"name\"]\n",
    "        cloudiness.append(response[\"clouds\"][\"all\"])\n",
    "        country.append(response[\"sys\"][\"country\"])\n",
    "        date.append(response[\"dt\"])\n",
    "        humidity.append(response[\"main\"][\"humidity\"])\n",
    "        max_temp.append(response[\"main\"][\"temp_max\"])\n",
    "        lat.append(response[\"coord\"][\"lat\"])\n",
    "        lng.append(response[\"coord\"][\"lon\"])\n",
    "        wind_speed.append(response[\"wind\"][\"speed\"])\n",
    "        #print(f\"Processing Record {record} | {city_record}\")\n",
    "        #record=record+1\n",
    "        if column >= MAX_CITY_PER_BIN:\n",
    "            column=0\n",
    "            row += 1\n",
    "        print(\"Processing Record \" + str(column+1) + \" of Set \" + str(row+1) + \"| \" + city)\n",
    "        bin[row, column]=city\n",
    "        column+=1\n",
    "    except: \n",
    "        print(f\"City not found. Skipping\")\n",
    "    continue\n",
    "\n"
   ]
  },
  {
   "cell_type": "code",
   "execution_count": null,
   "metadata": {},
   "outputs": [],
   "source": [
    "#for citi in cities\n",
    "#creating bins to place first 50 sets in each bin\n",
    "city_name=[]\n",
    "cloudiness=[]\n",
    "country=[]\n",
    "date=[]\n",
    "humidity=[]\n",
    "lat = []\n",
    "lng = []\n",
    "max_temp =[]\n",
    "wind_speed=[]\n",
    "temp=[]\n",
    "row=0\n",
    "column=0\n",
    "bin={}\n",
    "MAX_CITY_PER_BIN=50\n",
    "\n",
    "print(\"Beginning Data Retrieval\")\n",
    "print(\"-----------------------------\")\n",
    "\n",
    "for city in cities:\n",
    "    try:\n",
    "      #response = requests.get(f\"{url}&q={city}\").json()\n",
    "        response = requests.get(f\"{url}appid={api_key}&q={city}\").json()\n",
    "        city_name.append(response[\"name\"])\n",
    "        #city_record=response[\"name\"]\n",
    "        cloudiness.append(response[\"clouds\"][\"all\"])\n",
    "        country.append(response[\"sys\"][\"country\"])\n",
    "        date.append(response[\"dt\"])\n",
    "        humidity.append(response[\"main\"][\"humidity\"])\n",
    "        max_temp.append(response[\"main\"][\"temp_max\"])\n",
    "        lat.append(response[\"coord\"][\"lat\"])\n",
    "        lng.append(response[\"coord\"][\"lon\"])\n",
    "        wind_speed.append(response[\"wind\"][\"speed\"])\n",
    "        temp.append(response['main']['temp'])\n",
    "        if column >= MAX_CITY_PER_BIN:\n",
    "            column=0\n",
    "            row += 1\n",
    "        print(\"Processing Record \" + str(column+1) + \" of Set \" + str(row+1) + \"| \" + city)\n",
    "        bin[row, column]=city\n",
    "        column+=1\n",
    "    except:\n",
    "        print(f\"City not found. Skipping\")\n",
    "    continue\n",
    "print(\"---------------------------------------\")\n",
    "print(\"Data Retrieval Complete\")\n",
    "print(\"----------------------------------------\")"
   ]
  },
  {
   "cell_type": "code",
   "execution_count": 24,
   "metadata": {},
   "outputs": [],
   "source": [
    "# Creating the dictionary to display DataFrame\n",
    "\n",
    "city_pd={'City':city_name,'Cloudiness': cloudiness,'Country':country ,'Date':date,'Humidity':humidity,'Lat':lat,'Lng':lng,'Max Temp':max_temp,'Wind Speed':wind_speed}\n",
    "#city_count=city_pd.count\n",
    "#print(type(city_pd))"
   ]
  },
  {
   "cell_type": "code",
   "execution_count": 26,
   "metadata": {},
   "outputs": [
    {
     "data": {
      "text/html": [
       "<div>\n",
       "<style scoped>\n",
       "    .dataframe tbody tr th:only-of-type {\n",
       "        vertical-align: middle;\n",
       "    }\n",
       "\n",
       "    .dataframe tbody tr th {\n",
       "        vertical-align: top;\n",
       "    }\n",
       "\n",
       "    .dataframe thead th {\n",
       "        text-align: right;\n",
       "    }\n",
       "</style>\n",
       "<table border=\"1\" class=\"dataframe\">\n",
       "  <thead>\n",
       "    <tr style=\"text-align: right;\">\n",
       "      <th></th>\n",
       "      <th>City</th>\n",
       "      <th>Cloudiness</th>\n",
       "      <th>Country</th>\n",
       "      <th>Date</th>\n",
       "      <th>Humidity</th>\n",
       "      <th>Lat</th>\n",
       "      <th>Lng</th>\n",
       "      <th>Max Temp</th>\n",
       "      <th>Wind Speed</th>\n",
       "    </tr>\n",
       "  </thead>\n",
       "  <tbody>\n",
       "    <tr>\n",
       "      <th>0</th>\n",
       "      <td>Yellowknife</td>\n",
       "      <td>20</td>\n",
       "      <td>CA</td>\n",
       "      <td>1561513851</td>\n",
       "      <td>37</td>\n",
       "      <td>62.45</td>\n",
       "      <td>-114.38</td>\n",
       "      <td>295.150</td>\n",
       "      <td>3.10</td>\n",
       "    </tr>\n",
       "    <tr>\n",
       "      <th>1</th>\n",
       "      <td>Punta Arenas</td>\n",
       "      <td>90</td>\n",
       "      <td>CL</td>\n",
       "      <td>1561513852</td>\n",
       "      <td>96</td>\n",
       "      <td>-53.16</td>\n",
       "      <td>-70.91</td>\n",
       "      <td>273.150</td>\n",
       "      <td>3.10</td>\n",
       "    </tr>\n",
       "    <tr>\n",
       "      <th>2</th>\n",
       "      <td>Busselton</td>\n",
       "      <td>0</td>\n",
       "      <td>AU</td>\n",
       "      <td>1561513852</td>\n",
       "      <td>82</td>\n",
       "      <td>-33.64</td>\n",
       "      <td>115.35</td>\n",
       "      <td>289.260</td>\n",
       "      <td>16.40</td>\n",
       "    </tr>\n",
       "    <tr>\n",
       "      <th>3</th>\n",
       "      <td>Chifeng</td>\n",
       "      <td>100</td>\n",
       "      <td>CN</td>\n",
       "      <td>1561513852</td>\n",
       "      <td>43</td>\n",
       "      <td>42.27</td>\n",
       "      <td>118.96</td>\n",
       "      <td>297.615</td>\n",
       "      <td>5.13</td>\n",
       "    </tr>\n",
       "    <tr>\n",
       "      <th>4</th>\n",
       "      <td>Rio Gallegos</td>\n",
       "      <td>90</td>\n",
       "      <td>AR</td>\n",
       "      <td>1561513852</td>\n",
       "      <td>59</td>\n",
       "      <td>-51.62</td>\n",
       "      <td>-69.22</td>\n",
       "      <td>276.150</td>\n",
       "      <td>2.60</td>\n",
       "    </tr>\n",
       "  </tbody>\n",
       "</table>\n",
       "</div>"
      ],
      "text/plain": [
       "           City  Cloudiness Country        Date  Humidity    Lat     Lng  \\\n",
       "0   Yellowknife          20      CA  1561513851        37  62.45 -114.38   \n",
       "1  Punta Arenas          90      CL  1561513852        96 -53.16  -70.91   \n",
       "2     Busselton           0      AU  1561513852        82 -33.64  115.35   \n",
       "3       Chifeng         100      CN  1561513852        43  42.27  118.96   \n",
       "4  Rio Gallegos          90      AR  1561513852        59 -51.62  -69.22   \n",
       "\n",
       "   Max Temp  Wind Speed  \n",
       "0   295.150        3.10  \n",
       "1   273.150        3.10  \n",
       "2   289.260       16.40  \n",
       "3   297.615        5.13  \n",
       "4   276.150        2.60  "
      ]
     },
     "execution_count": 26,
     "metadata": {},
     "output_type": "execute_result"
    }
   ],
   "source": [
    "# Creating DataFrame from dictionary\n",
    "city_df = pd.DataFrame(city_pd)\n",
    "#city_df['City'].count()\n",
    "#city_df['Index'].count()\n",
    "city_df.head()"
   ]
  },
  {
   "cell_type": "code",
   "execution_count": 27,
   "metadata": {},
   "outputs": [],
   "source": [
    "# converting DataFrame to CSV file\n",
    "city_df.to_csv(\"weatherPy.csv\",encoding = \"utf-8\",index=False)"
   ]
  },
  {
   "cell_type": "markdown",
   "metadata": {},
   "source": [
    "### Plotting the Data\n",
    "* Use proper labeling of the plots using plot titles (including date of analysis) and axes labels.\n",
    "* Save the plotted figures as .pngs."
   ]
  },
  {
   "cell_type": "markdown",
   "metadata": {},
   "source": [
    "#### Latitude vs. Temperature Plot"
   ]
  },
  {
   "cell_type": "code",
   "execution_count": 37,
   "metadata": {},
   "outputs": [
    {
     "data": {
      "image/png": "[encoded data removed]",
      "text/plain": [
       "<Figure size 432x288 with 1 Axes>"
      ]
     },
     "metadata": {
      "needs_background": "light"
     },
     "output_type": "display_data"
    },
    {
     "data": {
      "text/plain": [
       "<Figure size 432x288 with 0 Axes>"
      ]
     },
     "metadata": {},
     "output_type": "display_data"
    }
   ],
   "source": [
    "# \n",
    "x_axis = city_df[\"Lat\"]\n",
    "y_axis = city_df[\"Max Temp\"]\n",
    "plt.title(\"City Latitude vs. Max Temperature(06/25/2019)\")\n",
    "plt.xlabel(\"Latitude\")\n",
    "plt.ylabel(\"Max Temperature(F)\")\n",
    "plt.scatter(x_axis,y_axis,marker = \"o\",color = \"blue\")\n",
    "plt.grid()\n",
    "plt.savefig(\"../Images/LatVsTemp.png\")\n",
    "plt.show()"
   ]
  },
  {
   "cell_type": "markdown",
   "metadata": {},
   "source": [
    "#### Latitude vs. Humidity Plot"
   ]
  },
  {
   "cell_type": "code",
   "execution_count": 38,
   "metadata": {},
   "outputs": [
    {
     "data": {
      "image/png": "[encoded data removed]",
      "text/plain": [
       "<Figure size 432x288 with 1 Axes>"
      ]
     },
     "metadata": {
      "needs_background": "light"
     },
     "output_type": "display_data"
    },
    {
     "data": {
      "text/plain": [
       "<Figure size 432x288 with 0 Axes>"
      ]
     },
     "metadata": {},
     "output_type": "display_data"
    }
   ],
   "source": [
    "x_axis = city_df[\"Lat\"]\n",
    "y_axis = city_df[\"Humidity\"]\n",
    "plt.title(\"City Latitude vs.Humidity(06/25/2019)\")\n",
    "plt.xlabel(\"Latitude\")\n",
    "plt.ylabel(\"Humidity(%)\")\n",
    "plt.scatter(x_axis,y_axis,marker = \"o\",color = \"blue\")\n",
    "plt.grid()\n",
    "plt.savefig(\"../Images/LatVsHumid.png\")\n",
    "plt.show()"
   ]
  },
  {
   "cell_type": "markdown",
   "metadata": {},
   "source": [
    "#### Latitude vs. Cloudiness Plot"
   ]
  },
  {
   "cell_type": "code",
   "execution_count": 39,
   "metadata": {},
   "outputs": [
    {
     "data": {
      "image/png": "[encoded data removed]",
      "text/plain": [
       "<Figure size 432x288 with 1 Axes>"
      ]
     },
     "metadata": {
      "needs_background": "light"
     },
     "output_type": "display_data"
    },
    {
     "data": {
      "text/plain": [
       "<Figure size 432x288 with 0 Axes>"
      ]
     },
     "metadata": {},
     "output_type": "display_data"
    }
   ],
   "source": [
    "x_axis = city_df[\"Lat\"]\n",
    "y_axis = city_df[\"Cloudiness\"]\n",
    "plt.title(\"City Latitude vs. Cloudiness(06/25/2019)\")\n",
    "plt.xlabel(\"Latitude\")\n",
    "plt.ylabel(\"Cloudiness(%)\")\n",
    "plt.scatter(x_axis,y_axis,marker = \"o\",color = \"blue\")\n",
    "plt.grid()\n",
    "plt.savefig(\"../Images/LatVscloudy.png\")\n",
    "plt.show()"
   ]
  },
  {
   "cell_type": "markdown",
   "metadata": {},
   "source": [
    "#### Latitude vs. Wind Speed Plot"
   ]
  },
  {
   "cell_type": "code",
   "execution_count": null,
   "metadata": {},
   "outputs": [],
   "source": [
    "x_axis = city_df[\"Lat\"]\n",
    "y_axis = city_df[\"Wind Speed\"]\n",
    "plt.title(\"City Latitude vs. Wind Speed(06/25/2019)\")\n",
    "plt.xlabel(\"Latitude\")\n",
    "plt.ylabel(\"Wind Speed(mph)\")\n",
    "plt.scatter(x_axis,y_axis,marker = \"o\",color = \"blue\")\n",
    "plt.grid()\n",
    "plt.savefig(\"../Images/LatVsWindSpeed.png\")\n",
    "plt.show()"
   ]
  },
  {
   "cell_type": "markdown",
   "metadata": {},
   "source": [
    "Data Analysis:\n",
    "    1. As we go from south of the equator(below the equator) to the line of equator Maximun temperature increase up to latitude (30) .\n",
    "    2. AS we go from line of eqautor to north of equator(above the equator) Maximum temperature decreases.\n",
    "    "
   ]
  }
 ],
 "metadata": {
  "anaconda-cloud": {},
  "kernel_info": {
   "name": "python3"
  },
  "kernelspec": {
   "display_name": "Python 3",
   "language": "python",
   "name": "python3"
  },
  "language_info": {
   "codemirror_mode": {
    "name": "ipython",
    "version": 3
   },
   "file_extension": ".py",
   "mimetype": "text/x-python",
   "name": "python",
   "nbconvert_exporter": "python",
   "pygments_lexer": "ipython3",
   "version": "3.7.3"
  },
  "nteract": {
   "version": "0.12.3"
  }
 },
 "nbformat": 4,
 "nbformat_minor": 2
}
